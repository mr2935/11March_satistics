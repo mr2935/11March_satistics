{
 "cells": [
  {
   "cell_type": "markdown",
   "id": "8a0bed89-9938-4b3e-9c85-5a5efa32ca54",
   "metadata": {},
   "source": [
    "QUESTION 1"
   ]
  },
  {
   "cell_type": "markdown",
   "id": "d45f1066-e538-4958-a5cf-5718aafd0f98",
   "metadata": {},
   "source": [
    "The t-test and the z-test are both statistical hypothesis tests used to determine if there is a significant difference between two groups or to compare a sample mean to a known population mean. The main difference between these two tests lies in the assumptions about the population parameters and sample size.\n",
    "\n",
    "1. T-test:\n",
    "- The t-test is used when the population standard deviation is unknown or when the sample size is small (typically, n < 30). It relies on the t-distribution, which has fatter tails compared to the standard normal (z) distribution, making it more suitable for small sample sizes.\n",
    "- The t-test is generally used when working with small samples, which is why it is often referred to as a \"small-sample\" test.\n",
    "\n",
    "Example scenario: Suppose we want to compare the mean heights of two groups of students, where each group contains only 20 students. Since the sample size is small and the population standard deviation is unknown, you would use a two-sample t-test to determine if there is a significant difference in the average heights between the two groups.\n",
    "\n",
    "2. Z-test:\n",
    "- The z-test is used when the population standard deviation is known or when the sample size is large (typically, n ≥ 30). It relies on the standard normal (z) distribution, which has known properties and allows us to work with larger sample sizes.\n",
    "- The z-test is typically used when working with large samples, making it a \"large-sample\" test.\n",
    "\n",
    "Example scenario: Suppose we want to determine if the average exam score of a group of 1000 students is significantly different from the known population mean of exam scores for all students. Since the sample size is large, and the population standard deviation is known, you would use a z-test to compare the sample mean with the known population mean.\n",
    "\n"
   ]
  },
  {
   "cell_type": "markdown",
   "id": "de5b6721-0eff-481b-b2b6-eef5a9edf196",
   "metadata": {},
   "source": [
    "QUESTION 2"
   ]
  },
  {
   "cell_type": "markdown",
   "id": "134e2ee7-5d76-4062-99a1-94601b5f396c",
   "metadata": {},
   "source": [
    "One-tailed and two-tailed tests are two types of hypothesis tests used in statistical analysis. They differ in the way the alternative hypothesis is formulated and the way critical regions or rejection regions are defined.\n",
    "\n",
    "1. One-tailed test:\n",
    "- In a one-tailed test, the alternative hypothesis specifies the direction of the effect or difference between the groups. It tests whether the sample statistic is significantly greater than or less than a certain value, but not both.\n",
    "- The critical region for a one-tailed test is located on only one side of the sampling distribution, either in the right tail or the left tail, depending on the direction specified in the alternative hypothesis.\n",
    "- One-tailed tests are more powerful (sensitive) than two-tailed tests for detecting a specific directional difference but are less sensitive to detecting differences in the opposite direction.\n",
    "\n",
    "Example: Let's say we want to test whether a new drug increases the average response time in a reaction test. The null hypothesis (H0) would be \"The new drug has no effect on response time,\" and the alternative hypothesis (Ha) for a one-tailed test could be \"The new drug increases response time.\" The critical region would be in the right tail of the sampling distribution.\n",
    "\n",
    "2. Two-tailed test:\n",
    "- In a two-tailed test, the alternative hypothesis does not specify a particular direction of the effect; it only states that there is a significant difference between the groups. It tests whether the sample statistic is significantly different from a certain value in either direction.\n",
    "- The critical region for a two-tailed test is located on both sides of the sampling distribution, in both the right and left tails. This is to account for the possibility of observing differences in either direction.\n",
    "- Two-tailed tests are used when you want to test if there is any significant difference between groups or if you do not have a specific directional expectation.\n",
    "\n",
    "Example: Let's say we want to test whether a new teaching method affects the exam scores of students. The null hypothesis (H0) would be \"The new teaching method has no effect on exam scores,\" and the alternative hypothesis (Ha) for a two-tailed test could be \"The new teaching method has a significant effect on exam scores (either higher or lower).\" The critical regions would be in both the right and left tails of the sampling distribution.\n",
    "\n"
   ]
  },
  {
   "cell_type": "markdown",
   "id": "1006e0c9-1333-4935-a413-7389f2f505c5",
   "metadata": {},
   "source": [
    "QUESTION 3"
   ]
  },
  {
   "cell_type": "markdown",
   "id": "a752f393-cfec-4d57-b42a-23388409445b",
   "metadata": {},
   "source": [
    "In hypothesis testing, Type 1 and Type 2 errors are two types of mistakes that can occur when making decisions about the null hypothesis (H0) and the alternative hypothesis (Ha). These errors are related to the acceptance or rejection of the null hypothesis based on sample data.\n",
    "\n",
    "1. Type 1 Error (False Positive):\n",
    "- A Type 1 error occurs when we reject the null hypothesis (H0) when it is actually true. In other words, we mistakenly conclude that there is a significant effect or difference when there is no such effect or difference in the population.\n",
    "- The probability of making a Type 1 error is denoted by the symbol α (alpha), and it is also called the level of significance. It represents the maximum allowable probability of committing a Type 1 error, which is typically set in advance (commonly at 0.05 or 0.01).\n",
    "\n",
    "Example scenario: Suppose a pharmaceutical company is testing a new drug and wants to determine if it is effective in reducing blood pressure. The null hypothesis (H0) would be \"The new drug has no effect on blood pressure,\" and the alternative hypothesis (Ha) would be \"The new drug reduces blood pressure.\" After conducting the study, if the researchers mistakenly reject the null hypothesis and claim that the drug reduces blood pressure when, in fact, it does not, it would be a Type 1 error.\n",
    "\n",
    "2. Type 2 Error (False Negative):\n",
    "- A Type 2 error occurs when we fail to reject the null hypothesis (H0) when it is actually false. In other words, we mistakenly conclude that there is no significant effect or difference when there is a real effect or difference in the population.\n",
    "- The probability of making a Type 2 error is denoted by the symbol β (beta). It is influenced by the sample size, the true effect size, and the chosen level of significance α. In general, as the sample size increases, the probability of a Type 2 error decreases.\n",
    "\n",
    "Example scenario: Continuing from the previous example, let's assume the new drug does indeed reduce blood pressure in the population. However, after conducting the study, the researchers fail to reject the null hypothesis and conclude that the drug has no effect on blood pressure. In this case, they made a Type 2 error.\n",
    "\n"
   ]
  },
  {
   "cell_type": "markdown",
   "id": "6e136a66-6a36-43ab-a8aa-aa7a0a407396",
   "metadata": {},
   "source": [
    "QUESTION 4"
   ]
  },
  {
   "cell_type": "markdown",
   "id": "a4c10d52-144f-4537-8ded-18d6e59a07c7",
   "metadata": {},
   "source": [
    "\n",
    "Bayes's theorem is a fundamental principle in probability theory and statistics, which allows us to update the probability of an event based on new evidence or information. It involves calculating the conditional probability of an event given some prior knowledge. Bayes's theorem is named after the Reverend Thomas Bayes, an 18th-century British mathematician.\n",
    "\n",
    "The theorem is formulated as follows:\n",
    "\n",
    "\n",
    "P(A∣B)= \n",
    "P(B)\n",
    "P(B∣A)⋅P(A)\n",
    "​\n",
    " \n",
    "\n",
    "Where:\n",
    "\n",
    "\n",
    "P(A∣B) is the conditional probability of event A given event B has occurred.\n",
    "\n",
    "P(B∣A) is the conditional probability of event B given event A has occurred.\n",
    "\n",
    "P(A) is the prior probability of event A (i.e., the probability of event A before considering any new evidence).\n",
    "\n",
    "P(B) is the prior probability of event B (i.e., the probability of event B before considering any new evidence).\n",
    "Bayes's theorem allows us to update our knowledge by incorporating new information. It is commonly used in various fields, including medical diagnosis, machine learning, and data analysis.\n",
    "\n",
    "Example:\n",
    "Let's consider a medical scenario to understand Bayes's theorem. Assume that a certain rare disease affects 1 in 1000 people, so the prior probability of having the disease (P(Disease)) is 0.001.\n",
    "\n",
    "Additionally, there is a diagnostic test for this disease, but it is not perfect. The test has a sensitivity of 0.95, meaning that it correctly identifies 95% of the people who actually have the disease (P(Positive Test | Disease)). However, it also has a specificity of 0.98, meaning that it correctly identifies 98% of the people who do not have the disease (P(Negative Test | No Disease))."
   ]
  },
  {
   "cell_type": "markdown",
   "id": "f60740ed-78d4-41e7-bb2f-91633fe709c1",
   "metadata": {},
   "source": [
    "QUESTION 5"
   ]
  },
  {
   "cell_type": "markdown",
   "id": "d37f987c-a22b-4999-821d-77439dca6784",
   "metadata": {},
   "source": [
    "A confidence interval is a statistical range that provides an estimate of the possible values for a population parameter, such as the mean, proportion, or difference between means. It is based on a sample from the population and is used to quantify the uncertainty associated with the estimate. The confidence interval is represented as a range with an associated confidence level, typically expressed as a percentage (e.g., 95% confidence interval).\n",
    "\n",
    "The confidence level indicates the probability that the true population parameter lies within the calculated interval. For instance, a 95% confidence interval means that if we were to take multiple samples from the same population and compute a confidence interval for each, about 95% of those intervals would contain the true population parameter.\n",
    "\n",
    "To calculate a confidence interval, you'll need the following information:\n",
    "1. Sample data: A representative sample from the population of interest.\n",
    "2. Sample statistic: The summary statistic calculated from the sample, such as the sample mean or proportion.\n",
    "3. Standard error: The standard deviation of the sampling distribution of the sample statistic. It measures the variability of the statistic across different samples.\n",
    "\n",
    "The formula for calculating a confidence interval is generally:\n",
    "\\[ \\text{Confidence Interval} = \\text{Sample Statistic} \\pm (\\text{Critical Value} \\times \\text{Standard Error}) \\]\n",
    "\n",
    "The critical value depends on the desired confidence level and the distribution of the sample statistic. For example, for a 95% confidence level (commonly used in practice), the critical value for a symmetric distribution (like the normal distribution) is approximately 1.96. If the distribution is different (e.g., t-distribution for smaller sample sizes), the critical value will be adjusted accordingly.\n",
    "\n",
    "Let's go through an example of calculating a 95% confidence interval for the population mean:\n",
    "\n",
    "Example:\n",
    "Suppose we want to estimate the average weight of all male adults in a certain city. We take a random sample of 50 male adults and record their weights. The sample mean weight is 180 pounds, and the sample standard deviation is 12 pounds.\n",
    "\n",
    "1. Sample data: We have a sample size of 50 male adults with their weights.\n",
    "2. Sample statistic: The sample mean weight is 180 pounds.\n",
    "3. Standard error: We calculate the standard error using the formula: \\(\\text{Standard Error} = \\frac{\\text{Sample Standard Deviation}}{\\sqrt{\\text{Sample Size}}}\\)\n",
    "   \\(\\text{Standard Error} = \\frac{12}{\\sqrt{50}} \\approx 1.69\\) (rounded to two decimal places)\n",
    "\n",
    "4. Critical value: For a 95% confidence level and a large sample size (50 is considered large enough for a normal distribution approximation), the critical value is approximately 1.96.\n",
    "\n",
    "Now, we can calculate the 95% confidence interval:\n",
    "\\[ \\text{Confidence Interval} = 180 \\pm (1.96 \\times 1.69) \\]\n",
    "\\[ \\text{Confidence Interval} = 180 \\pm 3.31 \\]\n",
    "\n",
    "The 95% confidence interval for the population mean weight of male adults in the city is approximately 176.69 to 183.31 pounds. This means that we are 95% confident that the true average weight of all male adults in the city lies within this range."
   ]
  },
  {
   "cell_type": "markdown",
   "id": "979564af-e4f5-4db9-a00d-b14f4f653ed5",
   "metadata": {},
   "source": [
    "QUESTION 6"
   ]
  },
  {
   "cell_type": "markdown",
   "id": "62195f4a-638c-4641-ae83-d17f27e9a0fc",
   "metadata": {},
   "source": [
    "Bayes' Theorem is a fundamental concept in probability theory that allows us to update the probability of an event occurring based on new evidence. It provides a way to incorporate prior knowledge and new data to make more informed decisions. The theorem is expressed as follows:\n",
    "\n",
    "\\[ P(A|B) = \\frac{P(B|A) \\times P(A)}{P(B)} \\]\n",
    "\n",
    "where:\n",
    "- \\( P(A|B) \\) is the probability of event A occurring given the evidence B (posterior probability).\n",
    "- \\( P(B|A) \\) is the probability of the evidence B occurring given that event A has occurred (likelihood of B given A).\n",
    "- \\( P(A) \\) is the prior probability of event A occurring (before considering any evidence).\n",
    "- \\( P(B) \\) is the probability of the evidence B occurring (total probability).\n",
    "\n",
    "Now, let's walk through a sample problem and solve it using Bayes' Theorem:\n",
    "\n",
    "Sample Problem:\n",
    "Suppose there is a rare disease, and 1 in 5000 people are affected by it in a certain population. There is a medical test for this disease, and the test is 99% accurate in both detecting the disease in affected individuals and correctly identifying non-affected individuals as healthy. If a randomly selected person tests positive for the disease, what is the probability that the person actually has the disease?\n",
    "\n",
    "Solution:\n",
    "Let's define the events:\n",
    "- A: The person has the disease (rare disease occurs).\n",
    "- B: The person tests positive in the medical test.\n",
    "\n",
    "Given data:\n",
    "- \\( P(A) \\) (prior probability of having the disease) = 1 in 5000 = 0.0002\n",
    "- \\( P(B|A) \\) (likelihood of testing positive if the person has the disease) = 0.99 (test sensitivity)\n",
    "- \\( P(B|\\neg A) \\) (likelihood of testing positive if the person does not have the disease) = 0.01 (false positive rate)\n",
    "- \\( P(\\neg A) \\) (prior probability of not having the disease) = 1 - \\( P(A) \\) = 1 - 0.0002 = 0.9998\n",
    "\n",
    "We want to find \\( P(A|B) \\) (probability of having the disease given that the person tested positive).\n",
    "\n",
    "Using Bayes' Theorem:\n",
    "\\[ P(A|B) = \\frac{P(B|A) \\times P(A)}{P(B)} \\]\n",
    "\n",
    "To find \\( P(B) \\) (probability of testing positive), we use the Law of Total Probability:\n",
    "\\[ P(B) = P(B|A) \\times P(A) + P(B|\\neg A) \\times P(\\neg A) \\]\n",
    "\n",
    "\\[ P(B) = 0.99 \\times 0.0002 + 0.01 \\times 0.9998 \\]\n",
    "\n",
    "\\[ P(B) = 0.000198 + 0.009998 \\]\n",
    "\n",
    "\\[ P(B) = 0.010196 \\]\n",
    "\n",
    "Now, we can calculate \\( P(A|B) \\):\n",
    "\\[ P(A|B) = \\frac{0.99 \\times 0.0002}{0.010196} \\]\n",
    "\n",
    "\\[ P(A|B) = \\frac{0.000198}{0.010196} \\]\n",
    "\n",
    "\\[ P(A|B) \\approx 0.01941 \\]\n",
    "\n",
    "So, the probability that a person actually has the disease given that they tested positive is approximately 0.01941 (or 1.941%). Even though the test is highly accurate, the low prevalence of the disease in the population results in a relatively low probability of a positive test indicating the presence of the disease."
   ]
  },
  {
   "cell_type": "markdown",
   "id": "13913f4b-be1b-44eb-8f98-e3416a6af6e0",
   "metadata": {},
   "source": [
    "QUESTION 7"
   ]
  },
  {
   "cell_type": "markdown",
   "id": "d27ffdd2-cf4a-4c45-9f3a-3d1ba564a09a",
   "metadata": {},
   "source": [
    "To calculate the 95% confidence interval for a sample mean, we'll use the formula:\n",
    "\n",
    "\\[ \\text{Confidence Interval} = \\text{Sample Mean} \\pm (\\text{Critical Value} \\times \\text{Standard Error}) \\]\n",
    "\n",
    "where:\n",
    "- Sample Mean is the mean of the sample data (given as 50 in this case).\n",
    "- Critical Value is the value obtained from the standard normal distribution table corresponding to the desired confidence level. For a 95% confidence level, the critical value is approximately 1.96.\n",
    "- Standard Error is the standard deviation of the sample mean, which is equal to the population standard deviation divided by the square root of the sample size.\n",
    "\n",
    "Given:\n",
    "- Sample Mean (\\( \\bar{x} \\)) = 50\n",
    "- Population Standard Deviation (\\( \\sigma \\)) = 5\n",
    "- Sample Size (n) - Not provided\n",
    "\n",
    "It's important to note that we need the sample size to calculate the standard error and, consequently, the confidence interval. Without the sample size, we can't proceed with a specific calculation.\n",
    "\n",
    "Assuming we have the sample size (let's say, n = 100 for illustration purposes), we can proceed with the calculation.\n",
    "\n",
    "\\[ \\text{Standard Error} = \\frac{\\sigma}{\\sqrt{n}} = \\frac{5}{\\sqrt{100}} = 0.5 \\]\n",
    "\n",
    "\\[ \\text{Confidence Interval} = 50 \\pm (1.96 \\times 0.5) = 50 \\pm 0.98 \\]\n",
    "\n",
    "The 95% confidence interval is approximately 49.02 to 50.98.\n",
    "\n",
    "Interpretation:\n",
    "A 95% confidence interval means that if we were to take multiple samples from the same population and calculate the mean for each sample, about 95% of those sample means would fall within the range of 49.02 to 50.98. It provides a range of values within which we can be reasonably confident that the true population mean lies. In this case, we are 95% confident that the true population mean (of the variable being measured) lies somewhere between 49.02 and 50.98."
   ]
  },
  {
   "cell_type": "markdown",
   "id": "f745c456-cb96-4b61-b38d-534ac93d1d23",
   "metadata": {},
   "source": [
    "QUESTION 8"
   ]
  },
  {
   "cell_type": "markdown",
   "id": "c8f05cf7-bf8e-425c-ae82-6a26d2b0cb70",
   "metadata": {},
   "source": [
    "The margin of error (MOE) in a confidence interval represents the range of values around the sample statistic (such as the sample mean or proportion) within which we expect the true population parameter to lie with a certain level of confidence. It is a measure of the uncertainty or variability in our estimate due to sampling.\n",
    "\n",
    "In a confidence interval, the MOE is calculated by multiplying the critical value (obtained from the chosen confidence level and the distribution) by the standard error of the sample statistic. The standard error represents the variability of the sample statistic across different samples.\n",
    "\n",
    "A larger sample size results in a smaller margin of error. This is because, as the sample size increases, the standard error decreases. As a result, the confidence interval becomes narrower, indicating that we have more precise estimates of the population parameter.\n",
    "\n",
    "Example:\n",
    "Let's consider a scenario where we want to estimate the average height of students in a school. We take two different sample sizes: a small sample with 30 students and a larger sample with 300 students.\n",
    "\n",
    "1. Small Sample Size (n = 30):\n",
    "- Sample Mean Height (\\( \\bar{x} \\)) = 165 cm\n",
    "- Sample Standard Deviation (\\( s \\)) = 10 cm\n",
    "\n",
    "The standard error (\\( SE \\)) for the sample mean can be calculated as \\( \\frac{s}{\\sqrt{n}} = \\frac{10}{\\sqrt{30}} \\approx 1.83 \\).\n",
    "\n",
    "Using a 95% confidence level, the critical value (\\( z_{\\alpha/2} \\)) for a normal distribution is approximately 1.96.\n",
    "\n",
    "The margin of error (MOE) for the small sample is \\( MOE = 1.96 \\times SE = 1.96 \\times 1.83 \\approx 3.58 \\).\n",
    "\n",
    "So, the 95% confidence interval for the average height of students in the school is approximately \\( 165 \\pm 3.58 \\), which is around 161.42 cm to 168.58 cm.\n",
    "\n",
    "2. Larger Sample Size (n = 300):\n",
    "- Sample Mean Height (\\( \\bar{x} \\)) = 165 cm\n",
    "- Sample Standard Deviation (\\( s \\)) = 10 cm\n",
    "\n",
    "The standard error (\\( SE \\)) for the sample mean can be calculated as \\( \\frac{s}{\\sqrt{n}} = \\frac{10}{\\sqrt{300}} \\approx 0.577 \\).\n",
    "\n",
    "Using a 95% confidence level, the critical value (\\( z_{\\alpha/2} \\)) for a normal distribution is still approximately 1.96.\n",
    "\n",
    "The margin of error (MOE) for the larger sample is \\( MOE = 1.96 \\times SE = 1.96 \\times 0.577 \\approx 1.13 \\).\n",
    "\n",
    "So, the 95% confidence interval for the average height of students in the school with the larger sample is approximately \\( 165 \\pm 1.13 \\), which is around 163.87 cm to 166.13 cm.\n",
    "\n",
    "In this example, we can see that with a larger sample size, the margin of error becomes smaller, resulting in a more precise estimate of the population parameter (average height). A larger sample provides more information and reduces the uncertainty in the estimate, leading to a narrower confidence interval."
   ]
  },
  {
   "cell_type": "markdown",
   "id": "a5159012-74ca-45cb-b44e-90082cca9f36",
   "metadata": {},
   "source": [
    "QUESTION 9"
   ]
  },
  {
   "cell_type": "markdown",
   "id": "cfe54243-fdf6-45a5-8058-510d166df3a2",
   "metadata": {},
   "source": [
    "To calculate the z-score for a data point, you can use the following formula:\n",
    "\n",
    "\\[ z = \\frac{x - \\mu}{\\sigma} \\]\n",
    "\n",
    "where:\n",
    "- \\( z \\) is the z-score.\n",
    "- \\( x \\) is the data point value (given as 75 in this case).\n",
    "- \\( \\mu \\) is the population mean (given as 70 in this case).\n",
    "- \\( \\sigma \\) is the population standard deviation (given as 5 in this case).\n",
    "\n",
    "Now, let's calculate the z-score:\n",
    "\n",
    "\\[ z = \\frac{75 - 70}{5} \\]\n",
    "\n",
    "\\[ z = \\frac{5}{5} \\]\n",
    "\n",
    "\\[ z = 1 \\]\n",
    "\n",
    "Interpretation:\n",
    "The calculated z-score is 1. It tells us how many standard deviations the data point 75 is away from the population mean of 70. Since the z-score is positive, it means that the data point 75 is 1 standard deviation above the population mean.\n",
    "\n",
    "A positive z-score indicates that the data point is higher than the mean, and the magnitude of the z-score (1 in this case) indicates how far above the mean the data point is in terms of standard deviations. In this scenario, the data point 75 is 1 standard deviation above the mean of 70, which gives us an understanding of how the value 75 compares to the average value of the population."
   ]
  },
  {
   "cell_type": "markdown",
   "id": "f0cb5ef1-1383-4a17-a2b4-801f69373bae",
   "metadata": {},
   "source": [
    "QUESTION 10"
   ]
  },
  {
   "cell_type": "markdown",
   "id": "e866f606-ce46-406c-84c9-4c380777f435",
   "metadata": {},
   "source": [
    "To conduct a hypothesis test to determine if the new weight loss drug is significantly effective, we need to set up the null and alternative hypotheses and then perform a t-test.\n",
    "\n",
    "Null Hypothesis (H0): The new weight loss drug is not significantly effective, and the average weight loss in the population is equal to or less than zero (μ ≤ 0).\n",
    "\n",
    "Alternative Hypothesis (Ha): The new weight loss drug is significantly effective, and the average weight loss in the population is greater than zero (μ > 0).\n",
    "\n",
    "We will use a one-sample t-test because we are comparing the sample mean (average weight loss) to a known value (zero).\n",
    "\n",
    "The formula for the t-test statistic is:\n",
    "\\[ t = \\frac{\\bar{x} - \\mu}{\\frac{s}{\\sqrt{n}}} \\]\n",
    "\n",
    "where:\n",
    "- \\( \\bar{x} \\) is the sample mean (average weight loss) in the sample (given as 6 pounds).\n",
    "- \\( \\mu \\) is the population mean under the null hypothesis (assumed to be 0).\n",
    "- \\( s \\) is the sample standard deviation (given as 2.5 pounds).\n",
    "- \\( n \\) is the sample size (given as 50 participants).\n",
    "\n",
    "Let's calculate the t-test statistic:\n",
    "\n",
    "\\[ t = \\frac{6 - 0}{\\frac{2.5}{\\sqrt{50}}} \\]\n",
    "\n",
    "\\[ t = \\frac{6}{\\frac{2.5}{\\sqrt{50}}} \\]\n",
    "\n",
    "\\[ t \\approx \\frac{6}{0.3536} \\]\n",
    "\n",
    "\\[ t \\approx 16.98 \\]\n",
    "\n",
    "Now, we need to determine the critical t-value from the t-distribution table for a one-tailed test with a 95% confidence level and 49 degrees of freedom (sample size - 1). Since we are conducting a one-tailed test (alternative hypothesis is one-sided), the critical t-value is approximately 1.676.\n",
    "\n",
    "Since the calculated t-statistic (16.98) is greater than the critical t-value (1.676), we reject the null hypothesis (H0).\n",
    "\n",
    "Conclusion:\n",
    "At the 95% confidence level, we have enough evidence to conclude that the new weight loss drug is significantly effective in reducing weight because the sample mean (average weight loss) of 6 pounds is significantly greater than zero."
   ]
  },
  {
   "cell_type": "markdown",
   "id": "6e434cd0-f454-4a8b-bc72-bc7f0e4429b9",
   "metadata": {},
   "source": [
    "QUESTION 11"
   ]
  },
  {
   "cell_type": "markdown",
   "id": "67012aca-f47c-4922-a670-36fbbc2ed0bc",
   "metadata": {},
   "source": [
    "To calculate the 95% confidence interval for the true proportion of people who are satisfied with their job, we'll use the formula for a confidence interval for a proportion (binomial proportion confidence interval):\n",
    "\n",
    "\\[ \\text{Confidence Interval} = \\hat{p} \\pm z \\times \\sqrt{\\frac{\\hat{p}(1 - \\hat{p})}{n}} \\]\n",
    "\n",
    "where:\n",
    "- \\(\\hat{p}\\) is the sample proportion (percentage who reported being satisfied with their job) given as 65% or 0.65.\n",
    "- \\(z\\) is the critical value from the standard normal distribution corresponding to the desired confidence level (95% confidence level, so \\(z \\approx 1.96\\) for a two-tailed test).\n",
    "- \\(n\\) is the sample size, given as 500 people.\n",
    "\n",
    "Now, let's calculate the confidence interval:\n",
    "\n",
    "\\[ \\text{Confidence Interval} = 0.65 \\pm 1.96 \\times \\sqrt{\\frac{0.65 \\times (1 - 0.65)}{500}} \\]\n",
    "\n",
    "\\[ \\text{Confidence Interval} = 0.65 \\pm 1.96 \\times \\sqrt{\\frac{0.65 \\times 0.35}{500}} \\]\n",
    "\n",
    "\\[ \\text{Confidence Interval} = 0.65 \\pm 1.96 \\times \\sqrt{\\frac{0.2275}{500}} \\]\n",
    "\n",
    "\\[ \\text{Confidence Interval} = 0.65 \\pm 1.96 \\times 0.02015 \\]\n",
    "\n",
    "\\[ \\text{Confidence Interval} = 0.65 \\pm 0.0395 \\]\n",
    "\n",
    "The 95% confidence interval for the true proportion of people who are satisfied with their job is approximately 0.6105 to 0.6895.\n",
    "\n",
    "Interpretation:\n",
    "This means that we are 95% confident that the true proportion of people who are satisfied with their job lies within the range of approximately 61.05% to 68.95%. The sample proportion of 65% is our best estimate, and the confidence interval provides a range of values that accounts for the sampling variability. The larger the sample size, the narrower the confidence interval, indicating a more precise estimate of the true proportion."
   ]
  },
  {
   "cell_type": "markdown",
   "id": "38d3cc81-5ff6-4ade-83c2-ccfe90e78a5c",
   "metadata": {},
   "source": [
    "QUESTION 12"
   ]
  },
  {
   "cell_type": "markdown",
   "id": "955ce9fb-ce31-420f-81c5-b2d0e459d874",
   "metadata": {},
   "source": [
    "To determine if there is a significant difference in student performance between the two teaching methods, we will conduct a two-sample independent t-test. The null hypothesis (H0) assumes that there is no difference between the two teaching methods, while the alternative hypothesis (Ha) suggests that there is a significant difference.\n",
    "\n",
    "Null Hypothesis (H0): The two teaching methods have no significant difference in student performance. (μA - μB = 0)\n",
    "\n",
    "Alternative Hypothesis (Ha): There is a significant difference in student performance between the two teaching methods. (μA - μB ≠ 0)\n",
    "\n",
    "We will use a two-tailed t-test because the alternative hypothesis is two-sided, meaning we are testing for a difference in either direction.\n",
    "\n",
    "The formula for the t-test statistic for independent samples is given by:\n",
    "\n",
    "\\[ t = \\frac{(\\bar{x}_A - \\bar{x}_B)}{\\sqrt{\\frac{s_A^2}{n_A} + \\frac{s_B^2}{n_B}}} \\]\n",
    "\n",
    "where:\n",
    "- \\( \\bar{x}_A \\) is the sample mean of Sample A (mean score of 85).\n",
    "- \\( \\bar{x}_B \\) is the sample mean of Sample B (mean score of 82).\n",
    "- \\( s_A \\) is the sample standard deviation of Sample A (standard deviation of 6).\n",
    "- \\( s_B \\) is the sample standard deviation of Sample B (standard deviation of 5).\n",
    "- \\( n_A \\) is the sample size of Sample A.\n",
    "- \\( n_B \\) is the sample size of Sample B.\n",
    "\n",
    "The significance level (alpha) is given as 0.01.\n",
    "\n",
    "Now, let's calculate the t-test statistic:\n",
    "\n",
    "\\[ t = \\frac{(85 - 82)}{\\sqrt{\\frac{6^2}{n_A} + \\frac{5^2}{n_B}}} \\]\n",
    "\n",
    "For this hypothesis test, we need to know the sample sizes (nA and nB). Let's assume that both Sample A and Sample B have a sample size of 30.\n",
    "\n",
    "\\[ t = \\frac{3}{\\sqrt{\\frac{6^2}{30} + \\frac{5^2}{30}}} \\]\n",
    "\n",
    "\\[ t = \\frac{3}{\\sqrt{\\frac{36}{30} + \\frac{25}{30}}} \\]\n",
    "\n",
    "\\[ t = \\frac{3}{\\sqrt{\\frac{61}{30}}} \\]\n",
    "\n",
    "\\[ t \\approx \\frac{3}{0.516} \\]\n",
    "\n",
    "\\[ t \\approx 5.814 \\]\n",
    "\n",
    "Now, we need to compare the calculated t-value (5.814) with the critical t-value at the significance level of 0.01 and the degrees of freedom (\\( df = n_A + n_B - 2 = 30 + 30 - 2 = 58 \\)).\n",
    "\n",
    "For a two-tailed test at a significance level of 0.01 and 58 degrees of freedom, the critical t-value is approximately ±2.660.\n",
    "\n",
    "Since the calculated t-value (5.814) is greater than the critical t-value (2.660), we reject the null hypothesis (H0).\n",
    "\n",
    "Conclusion:\n",
    "At the 0.01 significance level, there is enough evidence to conclude that there is a significant difference in student performance between the two teaching methods. The t-test suggests that one teaching method is associated with significantly higher student scores compared to the other method."
   ]
  },
  {
   "cell_type": "markdown",
   "id": "f3c7dfe0-7410-4614-af3c-6cf9da05fc51",
   "metadata": {},
   "source": [
    "QUESTION 13"
   ]
  },
  {
   "cell_type": "markdown",
   "id": "b80a9242-00c3-4e86-adf6-f7fe3821c9ec",
   "metadata": {},
   "source": [
    "To calculate the 90% confidence interval for the true population mean, we'll use the formula for a confidence interval for a population mean:\n",
    "\n",
    "\\[ \\text{Confidence Interval} = \\bar{x} \\pm z \\times \\frac{\\sigma}{\\sqrt{n}} \\]\n",
    "\n",
    "where:\n",
    "- \\(\\bar{x}\\) is the sample mean (mean of the 50 observations) given as 65.\n",
    "- \\(z\\) is the critical value from the standard normal distribution corresponding to the desired confidence level (90% confidence level, so \\(z \\approx 1.645\\) for a two-tailed test).\n",
    "- \\(\\sigma\\) is the population standard deviation given as 8.\n",
    "- \\(n\\) is the sample size, given as 50 observations.\n",
    "\n",
    "Now, let's calculate the confidence interval:\n",
    "\n",
    "\\[ \\text{Confidence Interval} = 65 \\pm 1.645 \\times \\frac{8}{\\sqrt{50}} \\]\n",
    "\n",
    "\\[ \\text{Confidence Interval} = 65 \\pm 1.645 \\times \\frac{8}{\\sqrt{50}} \\]\n",
    "\n",
    "\\[ \\text{Confidence Interval} = 65 \\pm 1.645 \\times \\frac{8}{\\sqrt{50}} \\]\n",
    "\n",
    "\\[ \\text{Confidence Interval} = 65 \\pm 1.645 \\times 1.131 \\]\n",
    "\n",
    "\\[ \\text{Confidence Interval} = 65 \\pm 1.861 \\]\n",
    "\n",
    "The 90% confidence interval for the true population mean is approximately 63.139 to 66.861.\n",
    "\n",
    "Interpretation:\n",
    "This means that we are 90% confident that the true population mean lies within the range of approximately 63.139 to 66.861. The sample mean of 65 is our best estimate, and the confidence interval provides a range of values that accounts for the sampling variability. The larger the confidence level, the wider the confidence interval, indicating a higher level of confidence in capturing the true population mean."
   ]
  },
  {
   "cell_type": "markdown",
   "id": "d1ac0ab5-4e53-4e87-b5f3-81c2a46d3217",
   "metadata": {},
   "source": [
    "QUESTION 14"
   ]
  },
  {
   "cell_type": "markdown",
   "id": "ad5aefbb-615d-4f6b-87d7-dff2bb5b0a7a",
   "metadata": {},
   "source": []
  }
 ],
 "metadata": {
  "kernelspec": {
   "display_name": "Python 3 (ipykernel)",
   "language": "python",
   "name": "python3"
  },
  "language_info": {
   "codemirror_mode": {
    "name": "ipython",
    "version": 3
   },
   "file_extension": ".py",
   "mimetype": "text/x-python",
   "name": "python",
   "nbconvert_exporter": "python",
   "pygments_lexer": "ipython3",
   "version": "3.10.8"
  }
 },
 "nbformat": 4,
 "nbformat_minor": 5
}
